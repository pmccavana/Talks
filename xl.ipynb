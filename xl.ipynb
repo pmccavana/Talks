{
  "cells": [
    {
      "metadata": {
        "trusted": true
      },
      "cell_type": "code",
      "source": "import openpyxl\nwb = openpyxl.load_workbook('fruit_sales.xlsx') #fruit_sales.xlsx\nwb.sheetnames\n",
      "execution_count": 7,
      "outputs": [
        {
          "output_type": "execute_result",
          "execution_count": 7,
          "data": {
            "text/plain": "['Sheet1', 'Sheet2', 'Sheet3']"
          },
          "metadata": {}
        }
      ]
    },
    {
      "metadata": {
        "trusted": true
      },
      "cell_type": "code",
      "source": "sheet = wb['Sheet3']\nsheet.title",
      "execution_count": 22,
      "outputs": [
        {
          "output_type": "execute_result",
          "execution_count": 22,
          "data": {
            "text/plain": "'Sheet3'"
          },
          "metadata": {}
        }
      ]
    },
    {
      "metadata": {
        "trusted": true
      },
      "cell_type": "code",
      "source": "sheet.title",
      "execution_count": 23,
      "outputs": [
        {
          "output_type": "execute_result",
          "execution_count": 23,
          "data": {
            "text/plain": "'Sheet3'"
          },
          "metadata": {}
        }
      ]
    },
    {
      "metadata": {
        "trusted": true
      },
      "cell_type": "code",
      "source": "anotherSheet = wb.active\nanotherSheet.title",
      "execution_count": 24,
      "outputs": [
        {
          "output_type": "execute_result",
          "execution_count": 24,
          "data": {
            "text/plain": "'Sheet1'"
          },
          "metadata": {}
        }
      ]
    },
    {
      "metadata": {
        "trusted": true
      },
      "cell_type": "code",
      "source": "anotherSheet['A1'].value",
      "execution_count": 25,
      "outputs": [
        {
          "output_type": "execute_result",
          "execution_count": 25,
          "data": {
            "text/plain": "datetime.datetime(2015, 5, 4, 13, 34, 2)"
          },
          "metadata": {}
        }
      ]
    },
    {
      "metadata": {
        "trusted": true
      },
      "cell_type": "code",
      "source": "import datetime\n\nprint(datetime.datetime(2015, 5, 4, 13, 34, 2))",
      "execution_count": 26,
      "outputs": [
        {
          "output_type": "stream",
          "text": "2015-05-04 13:34:02\n",
          "name": "stdout"
        }
      ]
    },
    {
      "metadata": {
        "trusted": true
      },
      "cell_type": "code",
      "source": "sheet.title = 'fruit'\nwb.sheetnames",
      "execution_count": 27,
      "outputs": [
        {
          "output_type": "execute_result",
          "execution_count": 27,
          "data": {
            "text/plain": "['Sheet1', 'Sheet2', 'fruit']"
          },
          "metadata": {}
        }
      ]
    },
    {
      "metadata": {
        "trusted": true
      },
      "cell_type": "code",
      "source": "for i in range(1, 8, 2):\n    print(i, anotherSheet.cell(row=i, column=2).value)",
      "execution_count": 28,
      "outputs": [
        {
          "output_type": "stream",
          "text": "1 Apple\n3 Pearsr\n5 Apples\n7 Strawberries\n",
          "name": "stdout"
        }
      ]
    },
    {
      "metadata": {},
      "cell_type": "markdown",
      "source": "You can determine the size of the sheet with the Worksheet object’s\nget_highest_row() and get_highest_column() methods"
    },
    {
      "metadata": {
        "trusted": true
      },
      "cell_type": "code",
      "source": "anotherSheet.max_row, anotherSheet.max_column",
      "execution_count": 35,
      "outputs": [
        {
          "output_type": "execute_result",
          "execution_count": 35,
          "data": {
            "text/plain": "(7, 3)"
          },
          "metadata": {}
        }
      ]
    },
    {
      "metadata": {
        "trusted": true
      },
      "cell_type": "code",
      "source": "from openpyxl.utils import get_column_letter, column_index_from_string\n\n\nget_column_letter(2), get_column_letter(27), get_column_letter(900)",
      "execution_count": 36,
      "outputs": [
        {
          "output_type": "execute_result",
          "execution_count": 36,
          "data": {
            "text/plain": "('B', 'AA', 'AHP')"
          },
          "metadata": {}
        }
      ]
    },
    {
      "metadata": {
        "trusted": true
      },
      "cell_type": "code",
      "source": "get_column_letter(anotherSheet.max_column)\n",
      "execution_count": 37,
      "outputs": [
        {
          "output_type": "execute_result",
          "execution_count": 37,
          "data": {
            "text/plain": "'C'"
          },
          "metadata": {}
        }
      ]
    },
    {
      "metadata": {
        "trusted": true
      },
      "cell_type": "code",
      "source": "for rows in anotherSheet['A1':'C3']:\n    for cell in rows:\n        print(cell.coordinate, cell.value)\n    print('--- END OF ROW ---')",
      "execution_count": 39,
      "outputs": [
        {
          "output_type": "stream",
          "text": "A1 2015-05-04 13:34:02\nB1 Apple\nC1 73\n--- END OF ROW ---\nA2 2015-05-04 03:41:23\nB2 Cheries\nC2 85\n--- END OF ROW ---\nA3 2015-06-04 12:46:51\nB3 Pearsr\nC3 14\n--- END OF ROW ---\n",
          "name": "stdout"
        }
      ]
    },
    {
      "metadata": {
        "trusted": true
      },
      "cell_type": "code",
      "source": "for cell in list(anotherSheet.columns)[1]:\n    print(cell.value)",
      "execution_count": 40,
      "outputs": [
        {
          "output_type": "stream",
          "text": "Apple\nCheries\nPearsr\noranges\nApples\nBananas\nStrawberries\n",
          "name": "stdout"
        }
      ]
    },
    {
      "metadata": {
        "trusted": true
      },
      "cell_type": "code",
      "source": "for cell in anotherSheet['B']:\n    print(cell.value)",
      "execution_count": 43,
      "outputs": [
        {
          "output_type": "stream",
          "text": "Apple\nCheries\nPearsr\noranges\nApples\nBananas\nStrawberries\n",
          "name": "stdout"
        }
      ]
    },
    {
      "metadata": {
        "trusted": false
      },
      "cell_type": "code",
      "source": "list(sheet.values)",
      "execution_count": 81,
      "outputs": [
        {
          "data": {
            "text/plain": "[(datetime.datetime(2015, 5, 4, 13, 34, 2), 'Apple', 73),\n (datetime.datetime(2015, 5, 4, 3, 41, 23), 'Cheries', 85),\n (datetime.datetime(2015, 6, 4, 12, 46, 51), 'Pears', 14),\n (datetime.datetime(2015, 8, 4, 8, 59, 43), 'Oranges', 52),\n (datetime.datetime(2015, 10, 4, 2, 7), 'Apples', 152),\n (datetime.datetime(2015, 10, 4, 18, 10, 37), 'Bananas', 23),\n (datetime.datetime(2015, 10, 4, 2, 40, 46), 'Strawberries', 98),\n (None, None, None)]"
          },
          "execution_count": 81,
          "metadata": {},
          "output_type": "execute_result"
        }
      ]
    },
    {
      "metadata": {
        "trusted": true
      },
      "cell_type": "code",
      "source": "anotherSheet['B4']='Oranges'",
      "execution_count": 45,
      "outputs": []
    },
    {
      "metadata": {
        "trusted": true
      },
      "cell_type": "code",
      "source": "anotherSheet.cell(row=3, column=2).value='Pears'",
      "execution_count": 46,
      "outputs": []
    },
    {
      "metadata": {
        "trusted": true
      },
      "cell_type": "code",
      "source": "wb.save('example_copy.xlsx')",
      "execution_count": 47,
      "outputs": []
    },
    {
      "metadata": {
        "trusted": true
      },
      "cell_type": "code",
      "source": "import pandas as pd\n\ndf = pd.read_excel('fruit_sales.xlsx', header=None)\ndf",
      "execution_count": 8,
      "outputs": [
        {
          "output_type": "execute_result",
          "execution_count": 8,
          "data": {
            "text/html": "<div>\n<style scoped>\n    .dataframe tbody tr th:only-of-type {\n        vertical-align: middle;\n    }\n\n    .dataframe tbody tr th {\n        vertical-align: top;\n    }\n\n    .dataframe thead th {\n        text-align: right;\n    }\n</style>\n<table border=\"1\" class=\"dataframe\">\n  <thead>\n    <tr style=\"text-align: right;\">\n      <th></th>\n      <th>0</th>\n      <th>1</th>\n      <th>2</th>\n    </tr>\n  </thead>\n  <tbody>\n    <tr>\n      <th>0</th>\n      <td>2015-05-04 13:34:02</td>\n      <td>Apple</td>\n      <td>73</td>\n    </tr>\n    <tr>\n      <th>1</th>\n      <td>2015-05-04 03:41:23</td>\n      <td>Cheries</td>\n      <td>85</td>\n    </tr>\n    <tr>\n      <th>2</th>\n      <td>2015-06-04 12:46:51</td>\n      <td>Pearsr</td>\n      <td>14</td>\n    </tr>\n    <tr>\n      <th>3</th>\n      <td>2015-08-04 08:59:43</td>\n      <td>oranges</td>\n      <td>52</td>\n    </tr>\n    <tr>\n      <th>4</th>\n      <td>2015-10-04 02:07:00</td>\n      <td>Apples</td>\n      <td>152</td>\n    </tr>\n    <tr>\n      <th>5</th>\n      <td>2015-10-04 18:10:37</td>\n      <td>Bananas</td>\n      <td>23</td>\n    </tr>\n    <tr>\n      <th>6</th>\n      <td>2015-10-04 02:40:46</td>\n      <td>Strawberries</td>\n      <td>98</td>\n    </tr>\n  </tbody>\n</table>\n</div>",
            "text/plain": "                    0             1    2\n0 2015-05-04 13:34:02         Apple   73\n1 2015-05-04 03:41:23       Cheries   85\n2 2015-06-04 12:46:51        Pearsr   14\n3 2015-08-04 08:59:43       oranges   52\n4 2015-10-04 02:07:00        Apples  152\n5 2015-10-04 18:10:37       Bananas   23\n6 2015-10-04 02:40:46  Strawberries   98"
          },
          "metadata": {}
        }
      ]
    },
    {
      "metadata": {
        "trusted": true
      },
      "cell_type": "code",
      "source": "import os\nos.listdir('.')",
      "execution_count": 48,
      "outputs": [
        {
          "output_type": "execute_result",
          "execution_count": 48,
          "data": {
            "text/plain": "['what is python.ipynb',\n 'TBI_mu_calc.ipynb',\n 'example_copy.xlsx',\n 'ImageSelect.ipynb',\n 'qaz3.ipynb',\n 'test',\n 'PDF_mining.ipynb',\n '151321_RTFinalReduceMandible-QA1.DCM',\n 'PDFs_add.ipynb',\n \"PTW_St Luke's softx.pdf\",\n 'A_new_notebook.ipynb',\n 'Untitled.ipynb',\n 'output04_10_17_13h42m55s.pdf',\n 'imag.jpg',\n 'file-sample_500kB.docx',\n 'rotated.pdf',\n 'oil_price.csv',\n 'newdicom.ipynb',\n 'Bayesian line fit.ipynb',\n 'output05_10_17_08h00m57s.pdf',\n 'SAINTL.pdf',\n 'Triangle.ipynb',\n 'prerot.pdf',\n 'xl.ipynb',\n 'Sympy.ipynb',\n 'Matplolib_Tour.ipynb',\n 'MapIre.ipynb',\n 'cross_wires.ipynb',\n 'qaz.dcm',\n 'Markov.jpg',\n 'e_in_B_field.ipynb',\n 'sqlish.ipynb',\n 'W1.ipynb',\n 'Images.ipynb',\n 'Dicom Complexity.ipynb',\n 'dd10to30_eqsq.ipynb',\n 'Matplolib_Tour-Copy1.ipynb',\n 'part2.ipynb',\n 'Soup pressure.ipynb',\n 'PDF_add_image.ipynb',\n '.ipynb_checkpoints',\n 'Untitled12.ipynb',\n 'fruit_sales.xlsx',\n 'qaz2.ipynb',\n 'PDF_rotate.ipynb',\n 'things_in_pandas.ipynb',\n 'output04_10_17_13h19m21s.pdf',\n 'database1.ipynb']"
          },
          "metadata": {}
        }
      ]
    },
    {
      "metadata": {
        "trusted": true
      },
      "cell_type": "code",
      "source": "import zipfile\n\ndocument = zipfile.ZipFile('file-sample_500kB.docx')\ndocument.namelist()",
      "execution_count": 51,
      "outputs": [
        {
          "output_type": "execute_result",
          "execution_count": 51,
          "data": {
            "text/plain": "['_rels/.rels',\n 'word/settings.xml',\n 'word/_rels/document.xml.rels',\n 'word/fontTable.xml',\n 'word/numbering.xml',\n 'word/media/image1.jpeg',\n 'word/charts/chart1.xml',\n 'word/styles.xml',\n 'word/document.xml',\n 'docProps/app.xml',\n 'docProps/core.xml',\n '[Content_Types].xml']"
          },
          "metadata": {}
        }
      ]
    },
    {
      "metadata": {
        "trusted": true
      },
      "cell_type": "code",
      "source": "import re\n\ntry:\n    from xml.etree.cElementTree import XML\nexcept ImportError:\n    from xml.etree.ElementTree import XML\n\nxml_content = document.read('word/document.xml')\ndocument.close()\ntree = XML(xml_content)\n",
      "execution_count": 54,
      "outputs": []
    },
    {
      "metadata": {
        "trusted": true
      },
      "cell_type": "code",
      "source": "WORD_NAMESPACE = '{http://schemas.openxmlformats.org/wordprocessingml/2006/main}'\nPARA = WORD_NAMESPACE + 'p'\nTEXT = WORD_NAMESPACE + 't'\n\nparagraphs = []\nfor paragraph in tree.getiterator(PARA):\n    texts = [node.text\n             for node in paragraph.getiterator(TEXT)\n             if node.text]\n    if texts:\n        paragraphs.append(''.join(texts))\n\n'\\n\\n'.join(paragraphs)",
      "execution_count": 56,
      "outputs": [
        {
          "output_type": "execute_result",
          "execution_count": 56,
          "data": {
            "text/plain": "'Lorem ipsum \\n\\nLorem ipsum dolor sit amet, consectetur adipiscing elit. Nunc ac faucibus odio. \\n\\nVestibulum neque massa, scelerisque sit amet ligula eu, congue molestie mi. Praesent ut varius sem. Nullam at porttitor arcu, nec lacinia nisi. Ut ac dolor vitae odio interdum condimentum. Vivamus dapibus sodales ex, vitae malesuada ipsum cursus convallis. Maecenas sed egestas nulla, ac condimentum orci. Mauris diam felis, vulputate ac suscipit et, iaculis non est. Curabitur semper arcu ac ligula semper, nec luctus nisl blandit. Integer lacinia ante ac libero lobortis imperdiet. Nullam mollis convallis ipsum, ac accumsan nunc vehicula vitae. Nulla eget justo in felis tristique fringilla. Morbi sit amet tortor quis risus auctor condimentum. Morbi in ullamcorper elit. Nulla iaculis tellus sit amet mauris tempus fringilla.\\n\\nMaecenas mauris lectus, lobortis et purus mattis, blandit dictum tellus.\\n\\nMaecenas non lorem quis tellus placerat varius. \\n\\nNulla facilisi. \\n\\nAenean congue fringilla justo ut aliquam. \\n\\nMauris id ex erat. Nunc vulputate neque vitae justo facilisis, non condimentum ante sagittis. \\n\\nMorbi viverra semper lorem nec molestie. \\n\\nMaecenas tincidunt est efficitur ligula euismod, sit amet ornare est vulputate.\\n\\nIn non mauris justo. Duis vehicula mi vel mi pretium, a viverra erat efficitur. Cras aliquam est ac eros varius, id iaculis dui auctor. Duis pretium neque ligula, et pulvinar mi placerat et. Nulla nec nunc sit amet nunc posuere vestibulum. Ut id neque eget tortor mattis tristique. Donec ante est, blandit sit amet tristique vel, lacinia pulvinar arcu. Pellentesque scelerisque fermentum erat, id posuere justo pulvinar ut. Cras id eros sed enim aliquam lobortis. Sed lobortis nisl ut eros efficitur tincidunt. Cras justo mi, porttitor quis mattis vel, ultricies ut purus. Ut facilisis et lacus eu cursus.\\n\\nIn eleifend velit vitae libero sollicitudin euismod. Fusce vitae vestibulum velit. Pellentesque vulputate lectus quis pellentesque commodo. Aliquam erat volutpat. Vestibulum in egestas velit. Pellentesque fermentum nisl vitae fringilla venenatis. Etiam id mauris vitae orci maximus ultricies. \\n\\nCras fringilla ipsum magna, in fringilla dui commodo a.\\n\\nLorem ipsum\\n\\nLorem ipsum\\n\\nLorem ipsum\\n\\n1\\n\\nIn eleifend velit vitae libero sollicitudin euismod.\\n\\nLorem\\n\\n2\\n\\nCras fringilla ipsum magna, in fringilla dui commodo a.\\n\\nIpsum\\n\\n3\\n\\nAliquam erat volutpat. \\n\\nLorem\\n\\n4\\n\\nFusce vitae vestibulum velit. \\n\\nLorem\\n\\n5\\n\\nEtiam vehicula luctus fermentum.\\n\\nIpsum\\n\\nEtiam vehicula luctus fermentum. In vel metus congue, pulvinar lectus vel, fermentum dui. Maecenas ante orci, egestas ut aliquet sit amet, sagittis a magna. Aliquam ante quam, pellentesque ut dignissim quis, laoreet eget est. Aliquam erat volutpat. Class aptent taciti sociosqu ad litora torquent per conubia nostra, per inceptos himenaeos. Ut ullamcorper justo sapien, in cursus libero viverra eget. Vivamus auctor imperdiet urna, at pulvinar leo posuere laoreet. Suspendisse neque nisl, fringilla at iaculis scelerisque, ornare vel dolor. Ut et pulvinar nunc. Pellentesque fringilla mollis efficitur. Nullam venenatis commodo imperdiet. Morbi velit neque, semper quis lorem quis, efficitur dignissim ipsum. Ut ac lorem sed turpis imperdiet eleifend sit amet id sapien.\\n\\nLorem ipsum dolor sit amet, consectetur adipiscing elit. \\n\\nNunc ac faucibus odio. Vestibulum neque massa, scelerisque sit amet ligula eu, congue molestie mi. Praesent ut varius sem. Nullam at porttitor arcu, nec lacinia nisi. Ut ac dolor vitae odio interdum condimentum. Vivamus dapibus sodales ex, vitae malesuada ipsum cursus convallis. Maecenas sed egestas nulla, ac condimentum orci. Mauris diam felis, vulputate ac suscipit et, iaculis non est. Curabitur semper arcu ac ligula semper, nec luctus nisl blandit. Integer lacinia ante ac libero lobortis imperdiet. Nullam mollis convallis ipsum, ac accumsan nunc vehicula vitae. Nulla eget justo in felis tristique fringilla. Morbi sit amet tortor quis risus auctor condimentum. Morbi in ullamcorper elit. Nulla iaculis tellus sit amet mauris tempus fringilla.\\n\\nMaecenas mauris lectus, lobortis et purus mattis, blandit dictum tellus. \\n\\nMaecenas non lorem quis tellus placerat varius. Nulla facilisi. Aenean congue fringilla justo ut aliquam. Mauris id ex erat. Nunc vulputate neque vitae justo facilisis, non condimentum ante sagittis. Morbi viverra semper lorem nec molestie. Maecenas tincidunt est efficitur ligula euismod, sit amet ornare est vulputate.\\n\\nIn non mauris justo. Duis vehicula mi vel mi pretium, a viverra erat efficitur. Cras aliquam est ac eros varius, id iaculis dui auctor. Duis pretium neque ligula, et pulvinar mi placerat et. Nulla nec nunc sit amet nunc posuere vestibulum. Ut id neque eget tortor mattis tristique. Donec ante est, blandit sit amet tristique vel, lacinia pulvinar arcu. Pellentesque scelerisque fermentum erat, id posuere justo pulvinar ut. Cras id eros sed enim aliquam lobortis. Sed lobortis nisl ut eros efficitur tincidunt. Cras justo mi, porttitor quis mattis vel, ultricies ut purus. Ut facilisis et lacus eu cursus.\\n\\nIn eleifend velit vitae libero sollicitudin euismod. \\n\\nFusce vitae vestibulum velit. Pellentesque vulputate lectus quis pellentesque commodo. Aliquam erat volutpat. Vestibulum in egestas velit. Pellentesque fermentum nisl vitae fringilla venenatis. Etiam id mauris vitae orci maximus ultricies. Cras fringilla ipsum magna, in fringilla dui commodo a.\\n\\nEtiam vehicula luctus fermentum. In vel metus congue, pulvinar lectus vel, fermentum dui. Maecenas ante orci, egestas ut aliquet sit amet, sagittis a magna. Aliquam ante quam, pellentesque ut dignissim quis, laoreet eget est. Aliquam erat volutpat. Class aptent taciti sociosqu ad litora torquent per conubia nostra, per inceptos himenaeos. Ut ullamcorper justo sapien, in cursus libero viverra eget. Vivamus auctor imperdiet urna, at pulvinar leo posuere laoreet. Suspendisse neque nisl, fringilla at iaculis scelerisque, ornare vel dolor. Ut et pulvinar nunc. Pellentesque fringilla mollis efficitur. Nullam venenatis commodo imperdiet. Morbi velit neque, semper quis lorem quis, efficitur dignissim ipsum. Ut ac lorem sed turpis imperdiet eleifend sit amet id sapien.\\n\\nMaecenas mauris lectus, lobortis et purus mattis, blandit dictum tellus. \\n\\nMaecenas non lorem quis tellus placerat varius. Nulla facilisi. Aenean congue fringilla justo ut aliquam. Mauris id ex erat. Nunc vulputate neque vitae justo facilisis, non condimentum ante sagittis. Morbi viverra semper lorem nec molestie. Maecenas tincidunt est efficitur ligula euismod, sit amet ornare est vulputate.\\n\\nIn non mauris justo. Duis vehicula mi vel mi pretium, a viverra erat efficitur. Cras aliquam est ac eros varius, id iaculis dui auctor. Duis pretium neque ligula, et pulvinar mi placerat et. Nulla nec nunc sit amet nunc posuere vestibulum. Ut id neque eget tortor mattis tristique. Donec ante est, blandit sit amet tristique vel, lacinia pulvinar arcu. Pellentesque scelerisque fermentum erat, id posuere justo pulvinar ut. Cras id eros sed enim aliquam lobortis. Sed lobortis nisl ut eros efficitur tincidunt. Cras justo mi, porttitor quis mattis vel, ultricies ut purus. Ut facilisis et lacus eu cursus.\\n\\nIn eleifend velit vitae libero sollicitudin euismod. \\n\\nFusce vitae vestibulum velit. Pellentesque vulputate lectus quis pellentesque commodo. Aliquam erat volutpat. Vestibulum in egestas velit. Pellentesque fermentum nisl vitae fringilla venenatis. Etiam id mauris vitae orci maximus ultricies. Cras fringilla ipsum magna, in fringilla dui commodo a.\\n\\nEtiam vehicula luctus fermentum. In vel metus congue, pulvinar lectus vel, fermentum dui. Maecenas ante orci, egestas ut aliquet sit amet, sagittis a magna. Aliquam ante quam, pellentesque ut dignissim quis, laoreet eget est. Aliquam erat volutpat. Class aptent taciti sociosqu ad litora torquent per conubia nostra, per inceptos himenaeos. Ut ullamcorper justo sapien, in cursus libero viverra eget. Vivamus auctor imperdiet urna, at pulvinar leo posuere laoreet. Suspendisse neque nisl, fringilla at iaculis scelerisque, ornare vel dolor. Ut et pulvinar nunc. Pellentesque fringilla mollis efficitur. Nullam venenatis commodo imperdiet. Morbi velit neque, semper quis lorem quis, efficitur dignissim ipsum. Ut ac lorem sed turpis imperdiet eleifend sit amet id sapien.'"
          },
          "metadata": {}
        }
      ]
    },
    {
      "metadata": {
        "trusted": true
      },
      "cell_type": "code",
      "source": "!pip install qgrid\n",
      "execution_count": 2,
      "outputs": [
        {
          "output_type": "stream",
          "text": "Collecting qgrid\n\u001b[?25l  Downloading https://files.pythonhosted.org/packages/70/63/0e0827682889f1a4ee74191b8bebc2e6fca1d18927d8875af0e37044d2d3/qgrid-1.1.1.tar.gz (793kB)\n\u001b[K     |████████████████████████████████| 798kB 1.2MB/s eta 0:00:01\n\u001b[?25hRequirement already satisfied: notebook>=4.0.0 in /home/nbuser/anaconda3_501/lib/python3.6/site-packages (from qgrid) (5.7.2)\nRequirement already satisfied: pandas>=0.18.0 in /home/nbuser/anaconda3_501/lib/python3.6/site-packages (from qgrid) (0.23.4)\nRequirement already satisfied: ipywidgets>=7.0.0 in /home/nbuser/anaconda3_501/lib/python3.6/site-packages (from qgrid) (7.4.2)\nRequirement already satisfied: tornado>=4 in /home/nbuser/anaconda3_501/lib/python3.6/site-packages (from notebook>=4.0.0->qgrid) (4.5.3)\nRequirement already satisfied: terminado>=0.8.1 in /home/nbuser/anaconda3_501/lib/python3.6/site-packages (from notebook>=4.0.0->qgrid) (0.8.1)\nRequirement already satisfied: nbconvert in /home/nbuser/anaconda3_501/lib/python3.6/site-packages (from notebook>=4.0.0->qgrid) (5.6.0)\nRequirement already satisfied: Send2Trash in /home/nbuser/anaconda3_501/lib/python3.6/site-packages (from notebook>=4.0.0->qgrid) (1.5.0)\nRequirement already satisfied: prometheus-client in /home/nbuser/anaconda3_501/lib/python3.6/site-packages (from notebook>=4.0.0->qgrid) (0.4.2)\nRequirement already satisfied: ipykernel in /home/nbuser/anaconda3_501/lib/python3.6/site-packages (from notebook>=4.0.0->qgrid) (5.1.0)\nRequirement already satisfied: nbformat in /home/nbuser/anaconda3_501/lib/python3.6/site-packages (from notebook>=4.0.0->qgrid) (4.4.0)\nRequirement already satisfied: jinja2 in /home/nbuser/anaconda3_501/lib/python3.6/site-packages (from notebook>=4.0.0->qgrid) (2.10)\nRequirement already satisfied: traitlets>=4.2.1 in /home/nbuser/anaconda3_501/lib/python3.6/site-packages (from notebook>=4.0.0->qgrid) (4.3.2)\nRequirement already satisfied: jupyter-core>=4.4.0 in /home/nbuser/anaconda3_501/lib/python3.6/site-packages (from notebook>=4.0.0->qgrid) (4.4.0)\nRequirement already satisfied: pyzmq>=17 in /home/nbuser/anaconda3_501/lib/python3.6/site-packages (from notebook>=4.0.0->qgrid) (17.1.2)\nRequirement already satisfied: ipython-genutils in /home/nbuser/anaconda3_501/lib/python3.6/site-packages (from notebook>=4.0.0->qgrid) (0.2.0)\nRequirement already satisfied: jupyter-client>=5.2.0 in /home/nbuser/anaconda3_501/lib/python3.6/site-packages (from notebook>=4.0.0->qgrid) (5.2.3)\nRequirement already satisfied: numpy>=1.9.0 in /home/nbuser/anaconda3_501/lib/python3.6/site-packages (from pandas>=0.18.0->qgrid) (1.16.2)\nRequirement already satisfied: python-dateutil>=2.5.0 in /home/nbuser/anaconda3_501/lib/python3.6/site-packages (from pandas>=0.18.0->qgrid) (2.8.0)\nRequirement already satisfied: pytz>=2011k in /home/nbuser/anaconda3_501/lib/python3.6/site-packages (from pandas>=0.18.0->qgrid) (2018.7)\nRequirement already satisfied: ipython>=4.0.0; python_version >= \"3.3\" in /home/nbuser/anaconda3_501/lib/python3.6/site-packages (from ipywidgets>=7.0.0->qgrid) (7.1.1)\nRequirement already satisfied: widgetsnbextension~=3.4.0 in /home/nbuser/anaconda3_501/lib/python3.6/site-packages (from ipywidgets>=7.0.0->qgrid) (3.4.2)\nRequirement already satisfied: entrypoints>=0.2.2 in /home/nbuser/anaconda3_501/lib/python3.6/site-packages (from nbconvert->notebook>=4.0.0->qgrid) (0.2.3)\nRequirement already satisfied: defusedxml in /home/nbuser/anaconda3_501/lib/python3.6/site-packages (from nbconvert->notebook>=4.0.0->qgrid) (0.5.0)\nRequirement already satisfied: pandocfilters>=1.4.1 in /home/nbuser/anaconda3_501/lib/python3.6/site-packages (from nbconvert->notebook>=4.0.0->qgrid) (1.4.2)\nRequirement already satisfied: mistune<2,>=0.8.1 in /home/nbuser/anaconda3_501/lib/python3.6/site-packages (from nbconvert->notebook>=4.0.0->qgrid) (0.8.4)\nRequirement already satisfied: testpath in /home/nbuser/anaconda3_501/lib/python3.6/site-packages (from nbconvert->notebook>=4.0.0->qgrid) (0.4.2)\nRequirement already satisfied: bleach in /home/nbuser/anaconda3_501/lib/python3.6/site-packages (from nbconvert->notebook>=4.0.0->qgrid) (1.5.0)\nRequirement already satisfied: pygments in /home/nbuser/anaconda3_501/lib/python3.6/site-packages (from nbconvert->notebook>=4.0.0->qgrid) (2.2.0)\nRequirement already satisfied: jsonschema!=2.5.0,>=2.4 in /home/nbuser/anaconda3_501/lib/python3.6/site-packages (from nbformat->notebook>=4.0.0->qgrid) (2.6.0)\nRequirement already satisfied: MarkupSafe>=0.23 in /home/nbuser/anaconda3_501/lib/python3.6/site-packages (from jinja2->notebook>=4.0.0->qgrid) (1.1.0)\nRequirement already satisfied: decorator in /home/nbuser/anaconda3_501/lib/python3.6/site-packages (from traitlets>=4.2.1->notebook>=4.0.0->qgrid) (4.3.0)\nRequirement already satisfied: six in /home/nbuser/anaconda3_501/lib/python3.6/site-packages (from traitlets>=4.2.1->notebook>=4.0.0->qgrid) (1.11.0)\nRequirement already satisfied: pexpect; sys_platform != \"win32\" in /home/nbuser/anaconda3_501/lib/python3.6/site-packages (from ipython>=4.0.0; python_version >= \"3.3\"->ipywidgets>=7.0.0->qgrid) (4.6.0)\nRequirement already satisfied: jedi>=0.10 in /home/nbuser/anaconda3_501/lib/python3.6/site-packages (from ipython>=4.0.0; python_version >= \"3.3\"->ipywidgets>=7.0.0->qgrid) (0.13.1)\nRequirement already satisfied: prompt-toolkit<2.1.0,>=2.0.0 in /home/nbuser/anaconda3_501/lib/python3.6/site-packages (from ipython>=4.0.0; python_version >= \"3.3\"->ipywidgets>=7.0.0->qgrid) (2.0.7)\nRequirement already satisfied: setuptools>=18.5 in /home/nbuser/anaconda3_501/lib/python3.6/site-packages (from ipython>=4.0.0; python_version >= \"3.3\"->ipywidgets>=7.0.0->qgrid) (41.1.0)\nRequirement already satisfied: backcall in /home/nbuser/anaconda3_501/lib/python3.6/site-packages (from ipython>=4.0.0; python_version >= \"3.3\"->ipywidgets>=7.0.0->qgrid) (0.1.0)\nRequirement already satisfied: pickleshare in /home/nbuser/anaconda3_501/lib/python3.6/site-packages (from ipython>=4.0.0; python_version >= \"3.3\"->ipywidgets>=7.0.0->qgrid) (0.7.5)\nRequirement already satisfied: html5lib!=0.9999,!=0.99999,<0.99999999,>=0.999 in /home/nbuser/anaconda3_501/lib/python3.6/site-packages (from bleach->nbconvert->notebook>=4.0.0->qgrid) (0.9999999)\nRequirement already satisfied: ptyprocess>=0.5 in /home/nbuser/anaconda3_501/lib/python3.6/site-packages (from pexpect; sys_platform != \"win32\"->ipython>=4.0.0; python_version >= \"3.3\"->ipywidgets>=7.0.0->qgrid) (0.6.0)\nRequirement already satisfied: parso>=0.3.0 in /home/nbuser/anaconda3_501/lib/python3.6/site-packages (from jedi>=0.10->ipython>=4.0.0; python_version >= \"3.3\"->ipywidgets>=7.0.0->qgrid) (0.3.1)\nRequirement already satisfied: wcwidth in /home/nbuser/anaconda3_501/lib/python3.6/site-packages (from prompt-toolkit<2.1.0,>=2.0.0->ipython>=4.0.0; python_version >= \"3.3\"->ipywidgets>=7.0.0->qgrid) (0.1.7)\nBuilding wheels for collected packages: qgrid\n  Building wheel for qgrid (setup.py) ... \u001b[?25ldone\n\u001b[?25h  Created wheel for qgrid: filename=qgrid-1.1.1-py2.py3-none-any.whl size=1556777 sha256=15d0a2e40a0a996eeb0b4f658589f4e01d01c6f9c48296497bdaedaa6e737d86\n  Stored in directory: /home/nbuser/.cache/pip/wheels/97/71/37/8423045f66492c2b48ba9e968257ff7fdc7c941e2656380441\nSuccessfully built qgrid\nInstalling collected packages: qgrid\nSuccessfully installed qgrid-1.1.1\n\u001b[33mWARNING: You are using pip version 19.2.2, however version 19.2.3 is available.\nYou should consider upgrading via the 'pip install --upgrade pip' command.\u001b[0m\n",
          "name": "stdout"
        }
      ]
    },
    {
      "metadata": {
        "trusted": true
      },
      "cell_type": "code",
      "source": "!jupyter nbextension enable --py --sys-prefix qgrid",
      "execution_count": 3,
      "outputs": [
        {
          "output_type": "stream",
          "text": "Enabling notebook extension qgrid/extension...\r\n      - Validating: \u001b[32mOK\u001b[0m\r\n",
          "name": "stdout"
        }
      ]
    },
    {
      "metadata": {
        "trusted": true
      },
      "cell_type": "code",
      "source": "!jupyter nbextension enable --py --sys-prefix widgetsnbextension",
      "execution_count": 5,
      "outputs": [
        {
          "output_type": "stream",
          "text": "Enabling notebook extension jupyter-js-widgets/extension...\n      - Validating: \u001b[32mOK\u001b[0m\n",
          "name": "stdout"
        }
      ]
    },
    {
      "metadata": {
        "trusted": true
      },
      "cell_type": "code",
      "source": "import qgrid",
      "execution_count": 6,
      "outputs": []
    },
    {
      "metadata": {
        "trusted": true
      },
      "cell_type": "code",
      "source": "qgrid.show_grid(df)",
      "execution_count": 9,
      "outputs": [
        {
          "output_type": "display_data",
          "data": {
            "application/vnd.jupyter.widget-view+json": {
              "model_id": "ac6e6795510949b6b46828efecbfe849",
              "version_minor": 0,
              "version_major": 2
            },
            "text/plain": "QgridWidget(grid_options={'fullWidthRows': True, 'syncColumnCellResize': True, 'forceFitColumns': True, 'defau…"
          },
          "metadata": {}
        }
      ]
    },
    {
      "metadata": {
        "trusted": true
      },
      "cell_type": "code",
      "source": "",
      "execution_count": null,
      "outputs": []
    }
  ],
  "metadata": {
    "kernelspec": {
      "name": "python36",
      "display_name": "Python 3.6",
      "language": "python"
    },
    "language_info": {
      "mimetype": "text/x-python",
      "nbconvert_exporter": "python",
      "name": "python",
      "pygments_lexer": "ipython3",
      "version": "3.6.6",
      "file_extension": ".py",
      "codemirror_mode": {
        "version": 3,
        "name": "ipython"
      }
    }
  },
  "nbformat": 4,
  "nbformat_minor": 2
}