{
 "cells": [
  {
   "cell_type": "code",
   "execution_count": null,
   "metadata": {
    "slideshow": {
     "slide_type": "slide"
    }
   },
   "outputs": [],
   "source": [
    "import numpy as np\n",
    "import matplotlib.pyplot as plt\n",
    "%matplotlib inline\n",
    "\n",
    "\n",
    "import io\n",
    "import base64\n",
    "from IPython.display import HTML"
   ]
  },
  {
   "cell_type": "markdown",
   "metadata": {
    "slideshow": {
     "slide_type": "slide"
    }
   },
   "source": [
    "\n",
    "<table><tr>\n",
    "    <td>\n",
    "    <h1>  What is </h1>\n",
    "    </td>\n",
    "    <td>\n",
    "    ![python_logo](https://www.python.org/static/community_logos/python-logo-master-v3-TM.png)    \n",
    "    </td>\n",
    "    <td>\n",
    "    <h1>  ? </h1>\n",
    "    </td>\n",
    "    \n",
    "</tr></table>"
   ]
  },
  {
   "cell_type": "markdown",
   "metadata": {
    "slideshow": {
     "slide_type": "slide"
    }
   },
   "source": [
    "<table>\n",
    "  <col width=\"300\">\n",
    "  <col width=\"40\">\n",
    "    <tr>\n",
    "    <td>       \n",
    "    ![python_logo](https://www.python.org/static/community_logos/python-logo-master-v3-TM.png)    \n",
    "    </td>\n",
    "    \n",
    "    <td>\n",
    "    <h2>is</h2>\n",
    "    </td>\n",
    "    \n",
    "    <td><font size=\"+2\">\n",
    "    <ul>\n",
    "    <li>modern</li> \n",
    "    <li>general-purpose</li>\n",
    "    <li>object-oriented</li>\n",
    "    <li>high-level</li> \n",
    "    <li>open source</li> \n",
    "    </ul>\n",
    "    </font></td>\n",
    "    <td><td><font>\n",
    "    <h2>programming language</h2>\n",
    "    </font></td>\n",
    "</tr></table> \n"
   ]
  },
  {
   "cell_type": "code",
   "execution_count": null,
   "metadata": {
    "slideshow": {
     "slide_type": "slide"
    }
   },
   "outputs": [],
   "source": [
    "video = io.open('Programming_Languages.mp4', 'r+b').read()\n",
    "encoded = base64.b64encode(video)\n",
    "HTML(data='''<video alt=\"test\" width=\"90%\" controls>\n",
    "<source src=\"data:video/mp4;base64,{0}\" type=\"video/mp4\" />\n",
    "</video>'''.format(encoded.decode('ascii'))\n",
    ")"
   ]
  },
  {
   "cell_type": "markdown",
   "metadata": {
    "slideshow": {
     "slide_type": "slide"
    }
   },
   "source": [
    "## General characteristics of Python.\n",
    "\n",
    "* **clean and simple language**:  \n",
    "Easy-to-read and intuitive code, easy-to-learn minimalistic syntax, maintainability scales well with size of projects.\n",
    "\n",
    "* **dynamically typed**:  \n",
    "No need to define the type of variables, function arguments or return types.\n",
    "\n",
    "* **interpreted**:  \n",
    "No need to compile the code. The Python interpreter reads and executes the python\n",
    "code directly."
   ]
  },
  {
   "cell_type": "markdown",
   "metadata": {
    "slideshow": {
     "slide_type": "slide"
    }
   },
   "source": [
    "## Google\n",
    "Google has been a supporter of Python from nearly the very beginning. In the beginning, the founders of Google made the decision of “Python where we can, C++ where we must.”\n",
    "\n",
    "## Facebook\n",
    "Facebook production engineers are exceptionally keen on Python, making it the third most popular language at the social media giant\n",
    "\n",
    "## Instagram\n",
    "In 2016, the Instagram engineering team boasted that they were running the world’s largest deployment of the Django web framework, which is written entirely in Python. \n"
   ]
  },
  {
   "cell_type": "markdown",
   "metadata": {
    "slideshow": {
     "slide_type": "slide"
    }
   },
   "source": [
    "## Spotify\n",
    "This music streaming giant is a huge proponent of Python, using the language primarily for data analysis and back end services.\n",
    "\n",
    "## Dropbox\n",
    "This cloud based storage system uses Python in its desktop client. If you have any doubt at all about how invested Dropbox is in Python, consider that in 2012, they managed to convince Guido van Rossum, Python’s creator and benevolent dictator for life, away from Google and into the Dropbox fold\n",
    "\n",
    "## Netflix\n",
    "Netflix uses Python for everything from operations management and analysis through to security and networking. In their blogpost, they wrote, “We use Python through the full content lifecycle, from deciding which content to fund all the way to operating the CDN that serves the final video to 148 million members.\n"
   ]
  },
  {
   "cell_type": "markdown",
   "metadata": {
    "slideshow": {
     "slide_type": "slide"
    }
   },
   "source": [
    "## Microsoft\n",
    "\n",
    "Just eight years ago, Python's footprint within Microsoft was a few scattered engineers who cared about the open source language, with most of the company giving it shrug.\n",
    "\n",
    "Today, Python is \"one of the essential languages for services and teams to support, as well as the most popular choice for the rapidly growing field of data science and analytics both inside and outside of the company,\" a Microsoft engineer wrote \n",
    "\n",
    "Microsoft is the world's biggest open source contributor, at least, as measured by the number of employees actively contributing to open source projects on GitHub. In fact, Microsoft has double the number of open source contributors as the second most active contributor"
   ]
  },
  {
   "cell_type": "markdown",
   "metadata": {
    "slideshow": {
     "slide_type": "slide"
    }
   },
   "source": [
    "<table> \n",
    "  <col width=\"300\">\n",
    "  <col width=\"430\">\n",
    "    <tr>\n",
    "    <td>       \n",
    "    ![black_hole](black-hole.jpg)    \n",
    "    </td>\n",
    "    \n",
    "    <td>\n",
    "    ![chirp](gw.jpg)\n",
    "    </td>\n",
    "\n",
    "\n",
    "</tr></table>  \n",
    "\n"
   ]
  },
  {
   "cell_type": "code",
   "execution_count": null,
   "metadata": {
    "slideshow": {
     "slide_type": "slide"
    }
   },
   "outputs": [],
   "source": [
    "1+1\n"
   ]
  },
  {
   "cell_type": "code",
   "execution_count": null,
   "metadata": {
    "slideshow": {
     "slide_type": "slide"
    }
   },
   "outputs": [],
   "source": [
    "print(*dir(1))\n"
   ]
  },
  {
   "cell_type": "markdown",
   "metadata": {
    "slideshow": {
     "slide_type": "slide"
    }
   },
   "source": [
    "<center>\n",
    "![python_interp](py_interpreter.png)\n",
    "</center>"
   ]
  },
  {
   "cell_type": "code",
   "execution_count": null,
   "metadata": {
    "slideshow": {
     "slide_type": "slide"
    }
   },
   "outputs": [],
   "source": [
    "import dis\n",
    "\n",
    "def plus(x,y):\n",
    "    f=x+y\n",
    "    return f\n",
    "    \n",
    "\n",
    "dis.dis(plus)"
   ]
  },
  {
   "cell_type": "markdown",
   "metadata": {
    "slideshow": {
     "slide_type": "slide"
    }
   },
   "source": [
    "\n",
    "<table><tr>\n",
    "    <td><img src=\"Jupyter_logo.png\" width =\"300\" height=\"300\" /> </td>\n",
    "    <td>\n",
    "        <font size=\"+2\">\n",
    "        <h2>Jupyter Notebook</h2>\n",
    "        <br>        \n",
    "        An open-source web application to create documents containing\n",
    "        <br>       \n",
    "        <ul>\n",
    "        <li>live code </li> \n",
    "        <li> equations</li> \n",
    "        <li> visualizations</li> \n",
    "        <li> text</li>\n",
    "        </ul>\n",
    "        </font>\n",
    "    </td>\n",
    "</tr></table>"
   ]
  },
  {
   "cell_type": "code",
   "execution_count": null,
   "metadata": {
    "slideshow": {
     "slide_type": "slide"
    }
   },
   "outputs": [],
   "source": [
    "α = 4.5\n",
    "γ = 0.01\n",
    "θ = 45\n",
    "\n",
    "print( α + γ + θ)"
   ]
  },
  {
   "cell_type": "markdown",
   "metadata": {
    "slideshow": {
     "slide_type": "slide"
    }
   },
   "source": [
    "### Markdown - Text in the cells  \n",
    "\n",
    "This is *rich* **text** with [links](http://ipython.org),\n",
    "equations:\n",
    "$$\\hat{f}(\\xi) = \\int_{-\\infty}^{+\\infty} f(x)\\,\n",
    " \\mathrm{e}^{-i \\xi x}$$\n",
    "code with syntax highlighting:\n",
    "```python\n",
    "print(\"Hello world!\")\n",
    "``` "
   ]
  },
  {
   "cell_type": "code",
   "execution_count": null,
   "metadata": {
    "slideshow": {
     "slide_type": "slide"
    }
   },
   "outputs": [],
   "source": [
    "from IPython.display import Image\n",
    "\n",
    "Image(  url=  'http://www.theiapm.ie/templates/rt_mediamogul_j15/images/style5/logo.png')\n"
   ]
  },
  {
   "cell_type": "code",
   "execution_count": null,
   "metadata": {
    "slideshow": {
     "slide_type": "skip"
    }
   },
   "outputs": [],
   "source": [
    "%%timeit\n",
    "\n",
    "y = plus(1,1)"
   ]
  },
  {
   "cell_type": "code",
   "execution_count": null,
   "metadata": {
    "slideshow": {
     "slide_type": "slide"
    }
   },
   "outputs": [],
   "source": [
    "%%latex\n",
    "\\begin{aligned}\n",
    "\\nabla \\times \\vec{\\mathbf{B}} -\\, \\frac1c\\, \\frac{\\partial\\vec{\\mathbf{E}}}{\\partial t} & = \\frac{4\\pi}{c}\\vec{\\mathbf{j}} \\\\\n",
    "\\nabla \\cdot \\vec{\\mathbf{E}} & = 4 \\pi \\rho \\\\\n",
    "\\nabla \\times \\vec{\\mathbf{E}}\\, +\\, \\frac1c\\, \\frac{\\partial\\vec{\\mathbf{B}}}{\\partial t} & = \\vec{\\mathbf{0}} \\\\\n",
    "\\nabla \\cdot \\vec{\\mathbf{B}} & = 0\n",
    "\\end{aligned}"
   ]
  },
  {
   "cell_type": "code",
   "execution_count": null,
   "metadata": {
    "slideshow": {
     "slide_type": "slide"
    }
   },
   "outputs": [],
   "source": [
    "import numpy as np\n",
    "import matplotlib.pyplot as plt\n",
    "%matplotlib inline"
   ]
  },
  {
   "cell_type": "code",
   "execution_count": null,
   "metadata": {
    "slideshow": {
     "slide_type": "slide"
    }
   },
   "outputs": [],
   "source": [
    "fig, ax = plt.subplots(figsize=(12,6))\n",
    "\n",
    "Av=np.array([99.6,97.5,98.3,88.5,98.2,99.3,85.6,97.2,100,96,99.1,97])\n",
    "Lf=np.array([98.2,99.8,99.8,95.9,95.8,99.8,98.7,98.3,97.5,97.7,96.1,97])\n",
    "Gc=np.array([99.7,99.7,100,97.2,90.8,96,94.3,97.5,100,97.5,94.5,97])\n",
    "Dd=np.array([99.8,99.7,99.7,96.9,98.6,99.3,91.7,92.6,95.6,97.5,99.7,97])\n",
    "\n",
    "Xnum=np.arange(13)\n",
    "Xax=[\"Mar\",\"Apr\",\"May\",\"June\",\"July\",\"Aug\",\"Sept\",\"Oct\",\"Nov\",\"Dec\",\"Jan\",\"Feb\",\"Avg\"]\n",
    "Av=np.append(Av,Av[-12:].mean())\n",
    "Lf=np.append(Lf,Lf[-12:].mean())\n",
    "Gc=np.append(Gc,Gc[-12:].mean())\n",
    "Dd=np.append(Dd,Dd[-12:].mean())\n",
    "\n",
    "\n",
    "ax.plot(Xnum,Av, 'D',ls='None', ms=10,markerfacecolor=\"yellow\", markeredgewidth=2, markeredgecolor=\"blue\" ,label=\"Avoca\")\n",
    "ax.plot(12,Av[-1], 'D',ls='None', ms=15,markerfacecolor=\"yellow\", markeredgewidth=2, markeredgecolor=\"blue\" )\n",
    "ax.plot(Xnum,Lf, 'o', ms=8, lw=2,  mfc='blue',markeredgewidth=2,markeredgecolor=\"yellow\",label=\"Liffey\")\n",
    "ax.plot(12,Lf[-1], 'o', ms=12, lw=2,  mfc='blue',markeredgewidth=2,markeredgecolor=\"yellow\")\n",
    "ax.plot(Xnum,Gc, 's', ms=10, lw=2,  mfc='green',label=\"Grand Canal\")\n",
    "ax.plot(12,Gc[-1], 's', ms=15, lw=2,  mfc='green')\n",
    "ax.plot(Xnum,Dd, 's', ms=10, lw=2,  mfc='violet',label=\"Dodder\")\n",
    "ax.plot(12,Dd[-1], 's', ms=15, lw=2,  mfc='violet')\n",
    "ax.legend(loc=0,numpoints=1) # let matplotlib decide the optimal location\n",
    "ax.grid()\n",
    "ax.set_xticks(np.arange(14))\n",
    "ax.set_xticklabels(Xax);\n",
    "fig.savefig('graph1.png')\n"
   ]
  },
  {
   "cell_type": "markdown",
   "metadata": {
    "slideshow": {
     "slide_type": "slide"
    }
   },
   "source": [
    "![mygraph](graph1.png)"
   ]
  },
  {
   "cell_type": "markdown",
   "metadata": {
    "slideshow": {
     "slide_type": "slide"
    }
   },
   "source": [
    "![pdf_before](pdf_fdp.png)"
   ]
  },
  {
   "cell_type": "code",
   "execution_count": null,
   "metadata": {
    "slideshow": {
     "slide_type": "slide"
    }
   },
   "outputs": [],
   "source": [
    "import PyPDF2\n",
    " \n",
    "pdf_in = open(r'commissioning_book.pdf', 'rb')\n",
    "pdf_reader = PyPDF2.PdfFileReader(pdf_in)\n",
    "pdf_writer = PyPDF2.PdfFileWriter()\n",
    " \n",
    "for pagenum in range(pdf_reader.numPages):\n",
    "    page = pdf_reader.getPage(pagenum)\n",
    "    if pagenum in range(1,pdf_reader.numPages,2):\n",
    "        page.rotateClockwise(180)\n",
    "    pdf_writer.addPage(page)\n",
    " \n",
    "pdf_out = open('rotated.pdf', 'wb')\n",
    "pdf_writer.write(pdf_out)\n",
    "pdf_out.close()\n",
    "pdf_in.close()"
   ]
  },
  {
   "cell_type": "markdown",
   "metadata": {
    "slideshow": {
     "slide_type": "slide"
    }
   },
   "source": [
    "![pdf_after](pdf_pdf.png)"
   ]
  },
  {
   "cell_type": "code",
   "execution_count": null,
   "metadata": {
    "slideshow": {
     "slide_type": "slide"
    }
   },
   "outputs": [],
   "source": [
    "from urllib.request import urlopen\n",
    "from bs4 import BeautifulSoup\n",
    "\n",
    "url = 'http://www.met.ie/latest/reports.asp'\n",
    "\n",
    "soup = BeautifulSoup(urlopen(url).read(), \"lxml\") #markup_type=markup_type))\n",
    "\n",
    "#soup = BeautifulSoup(urlopen(url).read())\n",
    "\n",
    "Ptime = soup.findAll('section')[1].findAll('h2')[0].contents[0][23:]\n",
    "site = soup.findAll('tr')[8].findAll('th')[0].contents[0]\n",
    "DA_press=float(soup.findAll('tr')[8].findAll('td')[7].contents[0].encode('utf-8'))\n",
    "\n",
    "SJH_press = round(DA_press* (1 - (2.25577* 10**-5)* 22)**5.25588,1)\n",
    "BH_press = round(DA_press* (1 - (2.25577* 10**-5)* 45)**5.25588,1)\n",
    "SLH_press = round(DA_press* (1 - (2.25577* 10**-5)* 35)**5.25588,1)\n",
    "\n",
    "\n",
    "print( Ptime + \"\\npressure is %.1f hPa at SJH, %.1f hPa at BH, %.1f hPa at SLR\" %(SJH_press, BH_press, SLH_press) )"
   ]
  },
  {
   "cell_type": "code",
   "execution_count": null,
   "metadata": {
    "slideshow": {
     "slide_type": "slide"
    }
   },
   "outputs": [],
   "source": [
    "Image('Capture121015.JPG')"
   ]
  },
  {
   "cell_type": "code",
   "execution_count": null,
   "metadata": {
    "slideshow": {
     "slide_type": "slide"
    }
   },
   "outputs": [],
   "source": [
    "ϵ, A, a, B, b = 0.5, 0.1194, 0.104, 0.1037, 0.3158\n",
    "\n",
    "def kernel(r,θ):\n",
    "    if r == 0:\n",
    "        return 0\n",
    "    vary_theta = (1-ϵ)/(1 - ϵ*np.cos(θ))\n",
    "    vary_radius = (A*np.exp(-a*r)-B*np.exp(-b*r))/r**2\n",
    "    return vary_theta*vary_radius\n",
    "\n",
    "vernel = np.vectorize(kernel)\n",
    "\n",
    "cube_radius = np.ones((300,100,100))\n",
    "cube_theta = np.ones((300,100,100))\n",
    "\n",
    "for i in np.arange(300):\n",
    "    if i==150:\n",
    "        h=0.001\n",
    "    else:\n",
    "        h=0\n",
    "    for j in np.arange(100):\n",
    "        for k in np.arange(100):\n",
    "            cube_theta[i,j,k] = np.arctan( np.sqrt(((j-50)/5)**2 +((k-50)/5)**2)/\n",
    "                                          ((i+h-150)/5) ) \n",
    "cube_theta[:150,:,:] += np.pi\n",
    "\n",
    "for i in np.arange(300):\n",
    "    for j in np.arange(100):\n",
    "        for k in np.arange(100):\n",
    "            cube_radius[i,j,k] = np.sqrt(((i-150)/5)**2 +\n",
    "                                         ((j-50)/5)**2 +\n",
    "                                         ((k-50)/5)**2)  \n",
    "                        \n",
    "dose_kernel = vernel(cube_radius,cube_theta)\n",
    "np.save(\"dose_kernel\", dose_kernel)"
   ]
  },
  {
   "cell_type": "code",
   "execution_count": null,
   "metadata": {
    "slideshow": {
     "slide_type": "slide"
    }
   },
   "outputs": [],
   "source": [
    "dose_kernel = np.load(\"dose_kernel\"+'.npy')\n",
    "#the 10cm cubic block of water\n",
    "block = np.zeros((100,100,100))\n",
    "#the incident beam with no absorption\n",
    "block[:,50,50] = np.ones((100,))\n",
    "#the incident beam with a guess at the absorption coefficient.\n",
    "for i in np.arange(100):\n",
    "    block[i] *= np.exp(-0.02*i)\n",
    "\n",
    "pencil = np.zeros((100,100,100))\n",
    "for i in np.arange(100):\n",
    "    # the roll_zeropad function is defined later in the notebook.\n",
    "    qaz = roll_zeropad(dose_kernel,-150+i, axis = 0)[:100,:,:]\n",
    "    pencil += qaz*block[i,50,50]\n",
    "\n",
    "pen_primary = np.ones((100,))\n",
    "for i in np.arange(100):\n",
    "    pen_primary[i] *= np.exp(-0.02*i)\n",
    "    \n",
    "    "
   ]
  },
  {
   "cell_type": "code",
   "execution_count": null,
   "metadata": {
    "slideshow": {
     "slide_type": "slide"
    }
   },
   "outputs": [],
   "source": [
    "from scipy.signal import convolve2d\n",
    "\n",
    "block[:,25:75,25:75] = np.ones((100,50,50))\n",
    "ssd = 500\n",
    "for i in np.arange(1,100):\n",
    "    block[i] = clipped_zoom(block[0],(500+i*2)/500)\n",
    "for i in np.arange(100):\n",
    "    block[i] *= np.exp(-0.02*i)\n",
    "    \n",
    "scatter = np.zeros((100,100,100))\n",
    "for i in np.arange(100):\n",
    "    scatter[i] = convolve2d(block[i], pencil[i], mode = 'same')\n",
    "\n",
    "np.save(\"scatter\", scatter)\n",
    "np.save(\"block\", block)"
   ]
  },
  {
   "cell_type": "code",
   "execution_count": null,
   "metadata": {
    "slideshow": {
     "slide_type": "slide"
    }
   },
   "outputs": [],
   "source": [
    "scatter = np.load(\"scatter\"+'.npy')\n",
    "block = np.load(\"block\"+'.npy')\n",
    "plt.figure(figsize=(8,8))\n",
    "slice=scatter[:,50,:]+100*block[:,50,:]\n",
    "vx = plt.contour(np.rot90(slice,3),linewidths =2,colors='w')\n",
    "plt.imshow(np.rot90(slice,3))\n"
   ]
  },
  {
   "cell_type": "code",
   "execution_count": null,
   "metadata": {
    "slideshow": {
     "slide_type": "slide"
    }
   },
   "outputs": [],
   "source": [
    "for cc in vx.collections:\n",
    "    \n",
    "    if len(cc.get_paths()) >0:\n",
    "        p = cc.get_paths()[0]\n",
    "        v = p.vertices\n",
    "        x = v[:,0]\n",
    "        y = v[:,1]\n",
    "\n",
    "        plt.plot(x,y)            \n"
   ]
  },
  {
   "cell_type": "code",
   "execution_count": null,
   "metadata": {
    "slideshow": {
     "slide_type": "slide"
    }
   },
   "outputs": [],
   "source": [
    "Image('Capture221015.JPG',width=1000,height=400)"
   ]
  },
  {
   "cell_type": "code",
   "execution_count": null,
   "metadata": {
    "slideshow": {
     "slide_type": "slide"
    }
   },
   "outputs": [],
   "source": [
    "Image('kV_MU.JPG',width=600,height=600)"
   ]
  },
  {
   "cell_type": "markdown",
   "metadata": {
    "slideshow": {
     "slide_type": "slide"
    }
   },
   "source": [
    "https://pmccavana.github.io"
   ]
  },
  {
   "cell_type": "code",
   "execution_count": null,
   "metadata": {
    "slideshow": {
     "slide_type": "skip"
    }
   },
   "outputs": [],
   "source": [
    "!pip install fortran-magic"
   ]
  },
  {
   "cell_type": "code",
   "execution_count": null,
   "metadata": {
    "slideshow": {
     "slide_type": "slide"
    }
   },
   "outputs": [],
   "source": [
    "%load_ext fortranmagic"
   ]
  },
  {
   "cell_type": "code",
   "execution_count": null,
   "metadata": {
    "slideshow": {
     "slide_type": "slide"
    }
   },
   "outputs": [],
   "source": [
    "%%fortran\n",
    "\n",
    "subroutine f1(x, y, z)\n",
    "    real, intent(in) :: x,y\n",
    "    real, intent(out) :: z\n",
    "\n",
    "    z = sin(x+y)\n",
    "\n",
    "end subroutine f1\n"
   ]
  },
  {
   "cell_type": "code",
   "execution_count": null,
   "metadata": {
    "slideshow": {
     "slide_type": "slide"
    }
   },
   "outputs": [],
   "source": [
    "f1(np.pi/3,np.pi/4)"
   ]
  },
  {
   "cell_type": "code",
   "execution_count": null,
   "metadata": {
    "slideshow": {
     "slide_type": "slide"
    }
   },
   "outputs": [],
   "source": [
    "from uncertainties import ufloat\n",
    "import uncertainties as u\n",
    "from uncertainties import unumpy\n",
    "\n",
    "uncertainty = 1.5*np.random.rand(21)\n",
    "y_error = 10*np.random.rand(21)\n",
    "n = 1\n",
    "\n",
    "# Define x and y\n",
    "x = np.arange(21)+np.random.rand()*3\n",
    "# Take power of x values according to n\n",
    "x_pow = x ** n\n",
    "x_uncertainty =  uncertainty\n",
    "\n",
    "# np.c_ is an array version of zip\n",
    "x_fit = unumpy.uarray(np.c_[x_pow, np.ones_like(x)],\n",
    "                      np.c_[x_uncertainty, np.zeros_like(x_uncertainty)])\n",
    "\n",
    "y = np.arange(0,101,5)++np.random.rand()*5\n",
    "y_fit = unumpy.uarray(y, y_error)\n"
   ]
  },
  {
   "cell_type": "code",
   "execution_count": null,
   "metadata": {
    "slideshow": {
     "slide_type": "slide"
    }
   },
   "outputs": [],
   "source": [
    "import seaborn as sns\n",
    "plt.style.use('seaborn-darkgrid')\n",
    "plt.errorbar(x_pow,y,yerr=y_error,xerr=x_uncertainty,fmt='bo',ecolor='r')"
   ]
  },
  {
   "cell_type": "markdown",
   "metadata": {
    "slideshow": {
     "slide_type": "slide"
    }
   },
   "source": [
    "$$\n",
    "( X^{T}X ) \\hat{\\beta} = X^{T}y\n",
    "$$\n",
    "\n",
    "\\begin{equation}\n",
    "X = \\begin{bmatrix}\n",
    "    x_1 & 1 \\\\\n",
    "    x_2 & 1 \\\\ \n",
    "    \\vdots & \\vdots \\\\ \n",
    "    x_n & 1 \\\\\n",
    "    \\end{bmatrix} \n",
    "\\end{equation}\n",
    "\n",
    "and \n",
    "\n",
    "\\begin{equation}\n",
    "\\hat{\\beta} = \\begin{bmatrix}\n",
    "    a \\\\\n",
    "    b \\\\ \n",
    "    \\end{bmatrix}\n",
    "\\end{equation}    "
   ]
  },
  {
   "cell_type": "code",
   "execution_count": null,
   "metadata": {
    "slideshow": {
     "slide_type": "slide"
    }
   },
   "outputs": [],
   "source": [
    "# Use normal equations to find coefficients\n",
    "inv_mat = unumpy.ulinalg.pinv(x_fit.T.dot(x_fit))\n",
    "fit_a, fit_b = inv_mat.dot(x_fit.T.dot(y_fit))\n",
    "\n",
    "print('fit_a={}, fit_b={}'.format(fit_a, fit_b))"
   ]
  },
  {
   "cell_type": "code",
   "execution_count": null,
   "metadata": {
    "slideshow": {
     "slide_type": "slide"
    }
   },
   "outputs": [],
   "source": [
    "import pandas as pd\n",
    "\n",
    "df = pd.read_excel('fruit_sales.xlsx', header=None)\n",
    "df"
   ]
  },
  {
   "cell_type": "code",
   "execution_count": null,
   "metadata": {
    "slideshow": {
     "slide_type": "slide"
    }
   },
   "outputs": [],
   "source": [
    "import zipfile\n",
    "\n",
    "document = zipfile.ZipFile('file-sample_500kB.docx')\n",
    "document.namelist()"
   ]
  },
  {
   "cell_type": "code",
   "execution_count": null,
   "metadata": {
    "slideshow": {
     "slide_type": "slide"
    }
   },
   "outputs": [],
   "source": [
    "\n",
    "try:\n",
    "    from xml.etree.cElementTree import XML\n",
    "except ImportError:\n",
    "    from xml.etree.ElementTree import XML\n",
    "\n",
    "xml_content = document.read('word/document.xml')\n",
    "document.close()\n",
    "tree = XML(xml_content)\n",
    "\n"
   ]
  },
  {
   "cell_type": "code",
   "execution_count": null,
   "metadata": {
    "slideshow": {
     "slide_type": "slide"
    }
   },
   "outputs": [],
   "source": [
    "WORD_NAMESPACE = '{http://schemas.openxmlformats.org/wordprocessingml/2006/main}'\n",
    "PARA = WORD_NAMESPACE + 'p'\n",
    "TEXT = WORD_NAMESPACE + 't'\n",
    "\n",
    "paragraphs = []\n",
    "for paragraph in tree.getiterator(PARA):\n",
    "    texts = [node.text\n",
    "             for node in paragraph.getiterator(TEXT)\n",
    "             if node.text]\n",
    "    if texts:\n",
    "        paragraphs.append(''.join(texts))\n",
    "\n",
    "'\\n\\n'.join(paragraphs)"
   ]
  },
  {
   "cell_type": "code",
   "execution_count": null,
   "metadata": {
    "slideshow": {
     "slide_type": "slide"
    }
   },
   "outputs": [],
   "source": [
    "from pymc3 import  *\n",
    "plt.style.use('seaborn-darkgrid')\n",
    "\n",
    "drug = (101,100,102,104,102,97,105,105,98,101,100,123,105,103,100,95,102,106,\n",
    "        109,102,82,102,100,102,102,101,102,102,103,103,97,97,103,101,97,104,\n",
    "        96,103,124,101,101,100,101,101,104,100,101)\n",
    "placebo = (99,101,100,101,102,100,97,101,104,101,102,102,100,105,88,101,100,\n",
    "           104,100,100,100,101,102,103,97,101,101,100,101,99,101,100,100,\n",
    "           101,100,99,101,100,102,99,100,99)\n",
    "\n",
    "y1 = np.array(drug)\n",
    "y2 = np.array(placebo)\n",
    "y = pd.DataFrame(dict(value=np.r_[y1, y2], group=np.r_[['drug']*len(drug), ['placebo']*len(placebo)]))\n",
    "\n",
    "y.hist('value', by='group', figsize=(12, 4));"
   ]
  },
  {
   "cell_type": "code",
   "execution_count": null,
   "metadata": {
    "slideshow": {
     "slide_type": "slide"
    }
   },
   "outputs": [],
   "source": [
    "μ_m = y.value.mean()\n",
    "μ_s = y.value.std() * 2\n",
    "\n",
    "with Model() as model:\n",
    "    group1_mean = Normal('group1_mean', mu=μ_m, sd=μ_s)\n",
    "    group2_mean = Normal('group2_mean', mu=μ_m, sd=μ_s)"
   ]
  },
  {
   "cell_type": "code",
   "execution_count": null,
   "metadata": {
    "slideshow": {
     "slide_type": "slide"
    }
   },
   "outputs": [],
   "source": [
    "σ_low = 0.5\n",
    "σ_high = 10\n",
    "\n",
    "with model:\n",
    "    group1_std = Uniform('group1_std', lower=σ_low, upper=σ_high)\n",
    "    group2_std = Uniform('group2_std', lower=σ_low, upper=σ_high)"
   ]
  },
  {
   "cell_type": "code",
   "execution_count": null,
   "metadata": {
    "slideshow": {
     "slide_type": "slide"
    }
   },
   "outputs": [],
   "source": [
    "with model:\n",
    "    ν = Exponential('ν', 1/30) \n"
   ]
  },
  {
   "cell_type": "code",
   "execution_count": null,
   "metadata": {
    "slideshow": {
     "slide_type": "slide"
    }
   },
   "outputs": [],
   "source": [
    "with model:\n",
    "    λ1 = group1_std**-2\n",
    "    λ2 = group2_std**-2\n",
    "\n",
    "    group1 = StudentT('drug', nu=ν, mu=group1_mean, lam=λ1, observed=y1)\n",
    "    group2 = StudentT('placebo', nu=ν, mu=group2_mean, lam=λ2, observed=y2)"
   ]
  },
  {
   "cell_type": "code",
   "execution_count": null,
   "metadata": {
    "slideshow": {
     "slide_type": "slide"
    }
   },
   "outputs": [],
   "source": [
    "with model:\n",
    "    diff_of_means = Deterministic('difference of means', group1_mean - group2_mean)\n",
    "    diff_of_stds = Deterministic('difference of stds', group1_std - group2_std)\n",
    "    effect_size = Deterministic('effect size',\n",
    "                                   diff_of_means / np.sqrt((group1_std**2 + group2_std**2) / 2))"
   ]
  },
  {
   "cell_type": "code",
   "execution_count": null,
   "metadata": {
    "slideshow": {
     "slide_type": "slide"
    }
   },
   "outputs": [],
   "source": [
    "with model:\n",
    "    trace = sample(2000)"
   ]
  },
  {
   "cell_type": "code",
   "execution_count": null,
   "metadata": {
    "slideshow": {
     "slide_type": "slide"
    }
   },
   "outputs": [],
   "source": [
    "plot_posterior(trace, var_names=['group1_mean','group2_mean', 'group1_std', 'group2_std', 'ν'], figsize =(10,6));"
   ]
  },
  {
   "cell_type": "code",
   "execution_count": null,
   "metadata": {
    "slideshow": {
     "slide_type": "slide"
    }
   },
   "outputs": [],
   "source": [
    "plot_posterior(trace, var_names=['difference of means','difference of stds', 'effect size'], ref_val=0, figsize =(10,4));"
   ]
  },
  {
   "cell_type": "code",
   "execution_count": null,
   "metadata": {
    "slideshow": {
     "slide_type": "slide"
    }
   },
   "outputs": [],
   "source": [
    "traceplot(trace[1000:]);"
   ]
  },
  {
   "cell_type": "code",
   "execution_count": null,
   "metadata": {
    "slideshow": {
     "slide_type": "slide"
    }
   },
   "outputs": [],
   "source": [
    "from scipy.stats import t\n",
    "\n",
    "plt.figure(figsize=(12,8))\n",
    "plt.hist(drug, alpha =0.5)\n",
    "ex= np.arange(75,130,0.2)\n",
    "for i in np.arange(0,2000,100):  \n",
    "    tee = t.pdf(ex, trace[i]['ν'], trace[i]['group1_mean'], trace[i]['group1_std'])\n",
    "    tee /= tee.sum()\n",
    "    plt.plot(ex,tee*750)"
   ]
  },
  {
   "cell_type": "code",
   "execution_count": null,
   "metadata": {
    "slideshow": {
     "slide_type": "slide"
    }
   },
   "outputs": [],
   "source": [
    "import pydicom\n",
    "\n",
    "ds=pydicom.read_file('151321_RTFinalReduceMandible-QA1.DCM',force=True)"
   ]
  },
  {
   "cell_type": "code",
   "execution_count": null,
   "metadata": {
    "slideshow": {
     "slide_type": "slide"
    }
   },
   "outputs": [],
   "source": [
    "beam=ds.BeamSequence[0]\n",
    "\n",
    "allMLCs=np.zeros((len(beam.ControlPointSequence),80))\n",
    "allYjaws=np.zeros((len(beam.ControlPointSequence),2))\n",
    "seqs = []\n",
    "for i in np.arange(len(beam.ControlPointSequence)):\n",
    "    seqs.append([])\n",
    "\n",
    "for i in np.arange(len(beam.ControlPointSequence)):\n",
    "    seqs[i] = beam.ControlPointSequence[i]\n",
    "    allMLCs[i,:] = beam.ControlPointSequence[i].BeamLimitingDevicePositionSequence[2].LeafJawPositions \n",
    "    allYjaws[i,:] = beam.ControlPointSequence[i].BeamLimitingDevicePositionSequence[1].LeafJawPositions\n",
    "    "
   ]
  },
  {
   "cell_type": "code",
   "execution_count": null,
   "metadata": {
    "slideshow": {
     "slide_type": "slide"
    }
   },
   "outputs": [],
   "source": [
    "from time import sleep\n",
    "from IPython.display import clear_output\n",
    "\n",
    "for j in np.arange(0,200,4):\n",
    "    plt.figure(figsize=(12,8))\n",
    "    plt.step(np.arange(41),np.r_[allMLCs[j][0],allMLCs[j][:40]])\n",
    "    plt.step(np.arange(41),np.r_[allMLCs[j][40],allMLCs[j][40:]])\n",
    "    plt.ylim((-100,100))\n",
    "    plt.show()\n",
    "    sleep(0.1)\n",
    "    clear_output(wait=True)"
   ]
  },
  {
   "cell_type": "code",
   "execution_count": null,
   "metadata": {
    "slideshow": {
     "slide_type": "slide"
    }
   },
   "outputs": [],
   "source": [
    "from skimage.data import hubble_deep_field\n",
    "\n",
    "plt.imshow(hubble_deep_field())"
   ]
  },
  {
   "cell_type": "code",
   "execution_count": null,
   "metadata": {
    "slideshow": {
     "slide_type": "slide"
    }
   },
   "outputs": [],
   "source": [
    "from scipy.ndimage import label\n",
    "\n",
    "image = (hubble_deep_field()[:,:,0] > 120)\n",
    "\n",
    "\n",
    "labels, num_features = label(image)\n",
    "'''\n",
    "the kernel for attachment\n",
    "[[0,1,0],\n",
    " [1,1,1],\n",
    " [0,1,0]]\n",
    "'''\n",
    "\n",
    "print(\"Image contains {} objects\".format(num_features))\n",
    "plt.imshow(labels,cmap='rainbow');"
   ]
  },
  {
   "cell_type": "code",
   "execution_count": null,
   "metadata": {
    "slideshow": {
     "slide_type": "slide"
    }
   },
   "outputs": [],
   "source": [
    "labels[840:860,597:607]"
   ]
  },
  {
   "cell_type": "markdown",
   "metadata": {
    "slideshow": {
     "slide_type": "slide"
    }
   },
   "source": [
    "<table>\n",
    "  <col width=\"600\">\n",
    "  <col width=\"400\">\n",
    "    <tr>\n",
    "    <td>       \n",
    "    ![python_logo](https://www.ibm.com/quantum-computing/_nuxt/img/12337e2.jpg)    \n",
    "    </td>\n",
    "    \n",
    "    <td>\n",
    "    <h2>IBM Q Experience is quantum on the cloud</h2>\n",
    "    </td>\n",
    "</tr></table> \n"
   ]
  },
  {
   "cell_type": "code",
   "execution_count": null,
   "metadata": {
    "slideshow": {
     "slide_type": "slide"
    }
   },
   "outputs": [],
   "source": [
    "import numpy as np\n",
    "from qiskit import *\n",
    "%matplotlib inline"
   ]
  },
  {
   "cell_type": "markdown",
   "metadata": {
    "slideshow": {
     "slide_type": "slide"
    }
   },
   "source": [
    "![b](Unknown.png)\n",
    "![b](Unknown-2.png)\n",
    "\n",
    "![c](Unknown-3.png)\n",
    "\n",
    "![d](Unknown-4.png)"
   ]
  },
  {
   "cell_type": "code",
   "execution_count": null,
   "metadata": {
    "slideshow": {
     "slide_type": "skip"
    }
   },
   "outputs": [],
   "source": [
    "def roll_zeropad(a, shift, axis=None):\n",
    "    \"\"\"\n",
    "    Roll array elements along a given axis.\n",
    "\n",
    "    Elements off the end of the array are treated as zeros.\n",
    "\n",
    "    Parameters\n",
    "    ----------\n",
    "    a : array_like\n",
    "        Input array.\n",
    "    shift : int\n",
    "        The number of places by which elements are shifted.\n",
    "    axis : int, optional\n",
    "        The axis along which elements are shifted.  By default, the array\n",
    "        is flattened before shifting, after which the original\n",
    "        shape is restored.\n",
    "\n",
    "    Returns\n",
    "    -------\n",
    "    res : ndarray\n",
    "        Output array, with the same shape as `a`.\n",
    "\n",
    "    See Also\n",
    "    --------\n",
    "    roll     : Elements that roll off one end come back on the other.\n",
    "    rollaxis : Roll the specified axis backwards, until it lies in a\n",
    "               given position.\n",
    "\n",
    "    Examples\n",
    "    --------\n",
    "    >>> x = np.arange(10)\n",
    "    >>> roll_zeropad(x, 2)\n",
    "    array([0, 0, 0, 1, 2, 3, 4, 5, 6, 7])\n",
    "    >>> roll_zeropad(x, -2)\n",
    "    array([2, 3, 4, 5, 6, 7, 8, 9, 0, 0])\n",
    "\n",
    "    >>> x2 = np.reshape(x, (2,5))\n",
    "    >>> x2\n",
    "    array([[0, 1, 2, 3, 4],\n",
    "           [5, 6, 7, 8, 9]])\n",
    "    >>> roll_zeropad(x2, 1)\n",
    "    array([[0, 0, 1, 2, 3],\n",
    "           [4, 5, 6, 7, 8]])\n",
    "    >>> roll_zeropad(x2, -2)\n",
    "    array([[2, 3, 4, 5, 6],\n",
    "           [7, 8, 9, 0, 0]])\n",
    "    >>> roll_zeropad(x2, 1, axis=0)\n",
    "    array([[0, 0, 0, 0, 0],\n",
    "           [0, 1, 2, 3, 4]])\n",
    "    >>> roll_zeropad(x2, -1, axis=0)\n",
    "    array([[5, 6, 7, 8, 9],\n",
    "           [0, 0, 0, 0, 0]])\n",
    "    >>> roll_zeropad(x2, 1, axis=1)\n",
    "    array([[0, 0, 1, 2, 3],\n",
    "           [0, 5, 6, 7, 8]])\n",
    "    >>> roll_zeropad(x2, -2, axis=1)\n",
    "    array([[2, 3, 4, 0, 0],\n",
    "           [7, 8, 9, 0, 0]])\n",
    "\n",
    "    >>> roll_zeropad(x2, 50)\n",
    "    array([[0, 0, 0, 0, 0],\n",
    "           [0, 0, 0, 0, 0]])\n",
    "    >>> roll_zeropad(x2, -50)\n",
    "    array([[0, 0, 0, 0, 0],\n",
    "           [0, 0, 0, 0, 0]])\n",
    "    >>> roll_zeropad(x2, 0)\n",
    "    array([[0, 1, 2, 3, 4],\n",
    "           [5, 6, 7, 8, 9]])\n",
    "\n",
    "    \"\"\"\n",
    "    a = np.asanyarray(a)\n",
    "    if shift == 0: return a\n",
    "    if axis is None:\n",
    "        n = a.size\n",
    "        reshape = True\n",
    "    else:\n",
    "        n = a.shape[axis]\n",
    "        reshape = False\n",
    "    if np.abs(shift) > n:\n",
    "        res = np.zeros_like(a)\n",
    "    elif shift < 0:\n",
    "        shift += n\n",
    "        zeros = np.zeros_like(a.take(np.arange(n-shift), axis))\n",
    "        res = np.concatenate((a.take(np.arange(n-shift,n), axis), zeros), axis)\n",
    "    else:\n",
    "        zeros = np.zeros_like(a.take(np.arange(n-shift,n), axis))\n",
    "        res = np.concatenate((zeros, a.take(np.arange(n-shift), axis)), axis)\n",
    "    if reshape:\n",
    "        return res.reshape(a.shape)\n",
    "    else:\n",
    "        return res"
   ]
  },
  {
   "cell_type": "code",
   "execution_count": null,
   "metadata": {
    "slideshow": {
     "slide_type": "skip"
    }
   },
   "outputs": [],
   "source": [
    "from scipy.ndimage import zoom\n",
    "\n",
    "#https://stackoverflow.com/questions/37119071/scipy-rotate-and-zoom-an-image-without-changing-its-dimensions\n",
    "def clipped_zoom(img, zoom_factor, **kwargs):\n",
    "\n",
    "    h, w = img.shape\n",
    "\n",
    "    # For multichannel images we don't want to apply the zoom factor to the RGB\n",
    "    # dimension, so instead we create a tuple of zoom factors, one per array\n",
    "    # dimension, with 1's for any trailing dimensions after the width and height.\n",
    "    zoom_tuple = (zoom_factor,) * 2 + (1,) * (img.ndim - 2)\n",
    "\n",
    "    # Zooming out\n",
    "    if zoom_factor < 1:\n",
    "\n",
    "        # Bounding box of the zoomed-out image within the output array\n",
    "        zh = int(np.round(h * zoom_factor))\n",
    "        zw = int(np.round(w * zoom_factor))\n",
    "        top = (h - zh) // 2\n",
    "        left = (w - zw) // 2\n",
    "\n",
    "        # Zero-padding\n",
    "        out = np.zeros_like(img)\n",
    "        out[top:top+zh, left:left+zw] = zoom(img, zoom_tuple, order=0)\n",
    "\n",
    "    # Zooming in\n",
    "    elif zoom_factor > 1:\n",
    "\n",
    "        # Bounding box of the zoomed-in region within the input array\n",
    "        zh = int(np.round(h / zoom_factor))\n",
    "        zw = int(np.round(w / zoom_factor))\n",
    "        top = (h - zh) // 2\n",
    "        left = (w - zw) // 2\n",
    "\n",
    "        out = zoom(img[top:top+zh, left:left+zw], zoom_tuple, order=0)\n",
    "\n",
    "        # `out` might still be slightly larger than `img` due to rounding, so\n",
    "        # trim off any extra pixels at the edges\n",
    "        #trim_top = ((out.shape[0] - h) // 2)\n",
    "        #trim_left = ((out.shape[1] - w) // 2)\n",
    "        #out = out[trim_top:trim_top+h, trim_left:trim_left+w]\n",
    "\n",
    "        while out.shape[0] < 100:\n",
    "            out = np.pad(out,((0,1),(0,0)), 'edge')\n",
    "        while out.shape[1] < 100:\n",
    "            out = np.pad(out,((0,0),(0,1)), 'edge')\n",
    "        while out.shape[0] > 100:\n",
    "            out = out[:100,:]\n",
    "        while out.shape[1] > 100:\n",
    "            out = out[:,:100]\n",
    "            \n",
    "    return out"
   ]
  },
  {
   "cell_type": "code",
   "execution_count": null,
   "metadata": {
    "slideshow": {
     "slide_type": "slide"
    }
   },
   "outputs": [],
   "source": []
  }
 ],
 "metadata": {
  "celltoolbar": "Slideshow",
  "kernelspec": {
   "display_name": "Python 3",
   "language": "python",
   "name": "python3"
  },
  "language_info": {
   "codemirror_mode": {
    "name": "ipython",
    "version": 3
   },
   "file_extension": ".py",
   "mimetype": "text/x-python",
   "name": "python",
   "nbconvert_exporter": "python",
   "pygments_lexer": "ipython3",
   "version": "3.7.4"
  }
 },
 "nbformat": 4,
 "nbformat_minor": 1
}
